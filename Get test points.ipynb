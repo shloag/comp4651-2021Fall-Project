{
 "cells": [
  {
   "cell_type": "code",
   "execution_count": 19,
   "id": "cultural-secretariat",
   "metadata": {},
   "outputs": [],
   "source": [
    "import yfinance as yf\n",
    "import requests\n",
    "from bs4 import BeautifulSoup\n",
    "import datetime as dt"
   ]
  },
  {
   "cell_type": "code",
   "execution_count": 20,
   "id": "rotary-candy",
   "metadata": {},
   "outputs": [],
   "source": [
    "ticker_str = ['NVR', 'BKNG', 'GOOGL', 'AMZN', 'GOOG']"
   ]
  },
  {
   "cell_type": "code",
   "execution_count": 21,
   "id": "federal-filing",
   "metadata": {},
   "outputs": [
    {
     "name": "stdout",
     "output_type": "stream",
     "text": [
      "[*********************100%***********************]  5 of 5 completed\n"
     ]
    }
   ],
   "source": [
    "df = yf.download(ticker_str, start=\"2020-01-02\", end=\"2021-01-02\")"
   ]
  },
  {
   "cell_type": "code",
   "execution_count": 22,
   "id": "realistic-response",
   "metadata": {},
   "outputs": [],
   "source": [
    "def date_to_int(date):\n",
    "    start_date = dt.datetime(1999, 12, 31)\n",
    "    return date.toordinal() - start_date.toordinal()\n",
    "    \n",
    "df_close = df['Close'].reset_index()\n",
    "df_close['Date'] = df_close['Date'].apply(date_to_int)"
   ]
  },
  {
   "cell_type": "code",
   "execution_count": 23,
   "id": "synthetic-emerald",
   "metadata": {},
   "outputs": [],
   "source": [
    "df_close.dropna(axis=1, how='all').to_csv('test_point.csv', index=False)"
   ]
  },
  {
   "cell_type": "code",
   "execution_count": 24,
   "id": "pressed-deputy",
   "metadata": {},
   "outputs": [
    {
     "data": {
      "text/html": [
       "<div>\n",
       "<style scoped>\n",
       "    .dataframe tbody tr th:only-of-type {\n",
       "        vertical-align: middle;\n",
       "    }\n",
       "\n",
       "    .dataframe tbody tr th {\n",
       "        vertical-align: top;\n",
       "    }\n",
       "\n",
       "    .dataframe thead th {\n",
       "        text-align: right;\n",
       "    }\n",
       "</style>\n",
       "<table border=\"1\" class=\"dataframe\">\n",
       "  <thead>\n",
       "    <tr style=\"text-align: right;\">\n",
       "      <th></th>\n",
       "      <th>Date</th>\n",
       "      <th>AMZN</th>\n",
       "      <th>BKNG</th>\n",
       "      <th>GOOG</th>\n",
       "      <th>GOOGL</th>\n",
       "      <th>NVR</th>\n",
       "    </tr>\n",
       "  </thead>\n",
       "  <tbody>\n",
       "    <tr>\n",
       "      <th>0</th>\n",
       "      <td>7307</td>\n",
       "      <td>1898.010010</td>\n",
       "      <td>2074.580078</td>\n",
       "      <td>1367.369995</td>\n",
       "      <td>1368.680054</td>\n",
       "      <td>3735.500000</td>\n",
       "    </tr>\n",
       "    <tr>\n",
       "      <th>1</th>\n",
       "      <td>7308</td>\n",
       "      <td>1874.969971</td>\n",
       "      <td>2065.479980</td>\n",
       "      <td>1360.660034</td>\n",
       "      <td>1361.520020</td>\n",
       "      <td>3781.429932</td>\n",
       "    </tr>\n",
       "    <tr>\n",
       "      <th>2</th>\n",
       "      <td>7311</td>\n",
       "      <td>1902.880005</td>\n",
       "      <td>2047.400024</td>\n",
       "      <td>1394.209961</td>\n",
       "      <td>1397.810059</td>\n",
       "      <td>3783.270020</td>\n",
       "    </tr>\n",
       "    <tr>\n",
       "      <th>3</th>\n",
       "      <td>7312</td>\n",
       "      <td>1906.859985</td>\n",
       "      <td>2068.050049</td>\n",
       "      <td>1393.339966</td>\n",
       "      <td>1395.109985</td>\n",
       "      <td>3806.120117</td>\n",
       "    </tr>\n",
       "    <tr>\n",
       "      <th>4</th>\n",
       "      <td>7313</td>\n",
       "      <td>1891.969971</td>\n",
       "      <td>2062.899902</td>\n",
       "      <td>1404.319946</td>\n",
       "      <td>1405.040039</td>\n",
       "      <td>3785.810059</td>\n",
       "    </tr>\n",
       "    <tr>\n",
       "      <th>...</th>\n",
       "      <td>...</td>\n",
       "      <td>...</td>\n",
       "      <td>...</td>\n",
       "      <td>...</td>\n",
       "      <td>...</td>\n",
       "      <td>...</td>\n",
       "    </tr>\n",
       "    <tr>\n",
       "      <th>248</th>\n",
       "      <td>7664</td>\n",
       "      <td>3172.689941</td>\n",
       "      <td>2088.350098</td>\n",
       "      <td>1738.849976</td>\n",
       "      <td>1734.160034</td>\n",
       "      <td>4216.390137</td>\n",
       "    </tr>\n",
       "    <tr>\n",
       "      <th>249</th>\n",
       "      <td>7668</td>\n",
       "      <td>3283.959961</td>\n",
       "      <td>2137.919922</td>\n",
       "      <td>1776.089966</td>\n",
       "      <td>1773.959961</td>\n",
       "      <td>4156.600098</td>\n",
       "    </tr>\n",
       "    <tr>\n",
       "      <th>250</th>\n",
       "      <td>7669</td>\n",
       "      <td>3322.000000</td>\n",
       "      <td>2185.399902</td>\n",
       "      <td>1758.719971</td>\n",
       "      <td>1757.760010</td>\n",
       "      <td>4126.819824</td>\n",
       "    </tr>\n",
       "    <tr>\n",
       "      <th>251</th>\n",
       "      <td>7670</td>\n",
       "      <td>3285.850098</td>\n",
       "      <td>2205.260010</td>\n",
       "      <td>1739.520020</td>\n",
       "      <td>1736.250000</td>\n",
       "      <td>4127.660156</td>\n",
       "    </tr>\n",
       "    <tr>\n",
       "      <th>252</th>\n",
       "      <td>7671</td>\n",
       "      <td>3256.929932</td>\n",
       "      <td>2227.270020</td>\n",
       "      <td>1751.880005</td>\n",
       "      <td>1752.640015</td>\n",
       "      <td>4079.860107</td>\n",
       "    </tr>\n",
       "  </tbody>\n",
       "</table>\n",
       "<p>253 rows × 6 columns</p>\n",
       "</div>"
      ],
      "text/plain": [
       "     Date         AMZN         BKNG         GOOG        GOOGL          NVR\n",
       "0    7307  1898.010010  2074.580078  1367.369995  1368.680054  3735.500000\n",
       "1    7308  1874.969971  2065.479980  1360.660034  1361.520020  3781.429932\n",
       "2    7311  1902.880005  2047.400024  1394.209961  1397.810059  3783.270020\n",
       "3    7312  1906.859985  2068.050049  1393.339966  1395.109985  3806.120117\n",
       "4    7313  1891.969971  2062.899902  1404.319946  1405.040039  3785.810059\n",
       "..    ...          ...          ...          ...          ...          ...\n",
       "248  7664  3172.689941  2088.350098  1738.849976  1734.160034  4216.390137\n",
       "249  7668  3283.959961  2137.919922  1776.089966  1773.959961  4156.600098\n",
       "250  7669  3322.000000  2185.399902  1758.719971  1757.760010  4126.819824\n",
       "251  7670  3285.850098  2205.260010  1739.520020  1736.250000  4127.660156\n",
       "252  7671  3256.929932  2227.270020  1751.880005  1752.640015  4079.860107\n",
       "\n",
       "[253 rows x 6 columns]"
      ]
     },
     "execution_count": 24,
     "metadata": {},
     "output_type": "execute_result"
    }
   ],
   "source": [
    "df_close"
   ]
  },
  {
   "cell_type": "code",
   "execution_count": null,
   "id": "outstanding-female",
   "metadata": {},
   "outputs": [],
   "source": []
  }
 ],
 "metadata": {
  "kernelspec": {
   "display_name": "Python 3",
   "language": "python",
   "name": "python3"
  },
  "language_info": {
   "codemirror_mode": {
    "name": "ipython",
    "version": 3
   },
   "file_extension": ".py",
   "mimetype": "text/x-python",
   "name": "python",
   "nbconvert_exporter": "python",
   "pygments_lexer": "ipython3",
   "version": "3.9.1"
  },
  "varInspector": {
   "cols": {
    "lenName": 16,
    "lenType": 16,
    "lenVar": 40
   },
   "kernels_config": {
    "python": {
     "delete_cmd_postfix": "",
     "delete_cmd_prefix": "del ",
     "library": "var_list.py",
     "varRefreshCmd": "print(var_dic_list())"
    },
    "r": {
     "delete_cmd_postfix": ") ",
     "delete_cmd_prefix": "rm(",
     "library": "var_list.r",
     "varRefreshCmd": "cat(var_dic_list()) "
    }
   },
   "types_to_exclude": [
    "module",
    "function",
    "builtin_function_or_method",
    "instance",
    "_Feature"
   ],
   "window_display": false
  }
 },
 "nbformat": 4,
 "nbformat_minor": 5
}
